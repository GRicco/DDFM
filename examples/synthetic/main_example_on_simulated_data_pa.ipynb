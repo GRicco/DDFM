{
 "cells": [
  {
   "cell_type": "markdown",
   "metadata": {
    "pycharm": {
     "name": "#%% md\n"
    }
   },
   "source": [
    "# This Notebook contains examples on simulated data"
   ]
  },
  {
   "cell_type": "code",
   "execution_count": 2,
   "metadata": {
    "pycharm": {
     "name": "#%%\n"
    }
   },
   "outputs": [],
   "source": [
    "import os,sys,inspect\n",
    "currentdir = os.path.dirname(os.path.abspath(inspect.getfile(inspect.currentframe())))\n",
    "parentdir = os.path.dirname(currentdir)\n",
    "parentdir = os.path.dirname(parentdir)\n",
    "sys.path.insert(0,'/Users/paoloandreini/Desktop/DDFM-main/ddfm/')\n",
    "import random\n",
    "import numpy as np\n",
    "import pandas as pd\n",
    "from synthetic_dgp.simulate import SIMULATE\n",
    "from statsmodels.tsa.statespace.dynamic_factor_mq import DynamicFactorMQ as DFM\n",
    "from models.ddfm import DDFM\n",
    "import warnings\n",
    "warnings.filterwarnings(\"ignore\")"
   ]
  },
  {
   "cell_type": "code",
   "execution_count": 3,
   "metadata": {
    "pycharm": {
     "name": "#%%\n"
    }
   },
   "outputs": [],
   "source": [
    "# seed setting\n",
    "seed = 123\n",
    "random.seed(seed)\n",
    "np.random.seed(seed)\n",
    "# set poly degree, if 1 then linear and the encoder structure is modified to linear single layer\n",
    "poly_degree = 2\n",
    "# init results storage\n",
    "results_dfm = np.zeros(2)\n",
    "results_ddfm = np.zeros(1)\n",
    "# params sim data\n",
    "n_obs = 150\n",
    "r = 3\n",
    "portion_missings = 0.2\n",
    "# simulate data\n",
    "sim_40 = SIMULATE(seed=seed, n=40, r=r, poly_degree=poly_degree)\n",
    "sim_150 = SIMULATE(seed=seed, n=150, r=r, poly_degree=poly_degree)"
   ]
  },
  {
   "cell_type": "markdown",
   "metadata": {
    "pycharm": {
     "name": "#%% md\n"
    }
   },
   "source": [
    "## Simulate data 40"
   ]
  },
  {
   "cell_type": "code",
   "execution_count": 4,
   "metadata": {
    "pycharm": {
     "name": "#%%\n"
    }
   },
   "outputs": [],
   "source": [
    "x = sim_40.simulate(n_obs, portion_missings=portion_missings)\n",
    "r_true = sim_40.f.shape[1]\n",
    "if poly_degree == 1:\n",
    "    # For linear to set the following\n",
    "    structure_encoder = (r_true,)\n",
    "else:\n",
    "    structure_encoder = (r_true * 6, r_true * 4, r_true * 2, r_true)"
   ]
  },
  {
   "cell_type": "code",
   "execution_count": 5,
   "metadata": {
    "pycharm": {
     "name": "#%%\n"
    }
   },
   "outputs": [
    {
     "name": "stdout",
     "output_type": "stream",
     "text": [
      "EM start iterations, llf=-4141.3\n",
      "EM converged at iteration 311, llf=-3765, convergence criterion=9.9547e-07 < tolerance=1e-06\n",
      "CPU times: user 28.2 s, sys: 1min 10s, total: 1min 38s\n",
      "Wall time: 17.8 s\n"
     ]
    }
   ],
   "source": [
    "%%time\n",
    "# estimate dfm\n",
    "dyn_fact_mdl = DFM(pd.DataFrame(x), factors=min(r_true, x.shape[1]), factor_orders=1)\n",
    "res_dyn_fact_mdl = dyn_fact_mdl.fit(disp=1000, maxiter=10000)"
   ]
  },
  {
   "cell_type": "code",
   "execution_count": 6,
   "metadata": {
    "pycharm": {
     "name": "#%%\n"
    }
   },
   "outputs": [
    {
     "name": "stdout",
     "output_type": "stream",
     "text": [
      "[0.74008908 0.73827788]\n"
     ]
    }
   ],
   "source": [
    "results_dfm[0] = sim_40.evaluate(res_dyn_fact_mdl.factors.smoothed.values, f_true=sim_40.f)\n",
    "results_dfm[1] = sim_40.evaluate(res_dyn_fact_mdl.factors.filtered.values, f_true=sim_40.f)\n",
    "print(results_dfm)"
   ]
  },
  {
   "cell_type": "code",
   "execution_count": 7,
   "metadata": {
    "pycharm": {
     "name": "#%%\n"
    }
   },
   "outputs": [
    {
     "name": "stdout",
     "output_type": "stream",
     "text": [
      "@Info - Note: Sorting data.\n"
     ]
    },
    {
     "name": "stderr",
     "output_type": "stream",
     "text": [
      "2023-04-22 01:23:21.372274: I tensorflow/compiler/jit/xla_cpu_device.cc:41] Not creating XLA devices, tf_xla_enable_xla_devices not set\n",
      "2023-04-22 01:23:21.373269: I tensorflow/core/platform/cpu_feature_guard.cc:142] This TensorFlow binary is optimized with oneAPI Deep Neural Network Library (oneDNN) to use the following CPU instructions in performance-critical operations:  SSE4.2\n",
      "To enable them in other operations, rebuild TensorFlow with the appropriate compiler flags.\n",
      "2023-04-22 01:23:21.482824: I tensorflow/compiler/mlir/mlir_graph_optimization_pass.cc:116] None of the MLIR optimization passes are enabled (registered 2)\n"
     ]
    },
    {
     "name": "stdout",
     "output_type": "stream",
     "text": [
      "@Info: iteration: 10 - new loss: 0.16868445318095723 - delta: 0.006150200448205526\n",
      "@Info: iteration: 20 - new loss: 0.16673032082091727 - delta: 0.0014921661234730426\n",
      "@Info: Convergence achieved in 22 iterations - new loss: 0.16682674339105666 - delta: 0.00033498932928478786 < 0.0005\n",
      "CPU times: user 48.3 s, sys: 28.8 s, total: 1min 17s\n",
      "Wall time: 42.9 s\n"
     ]
    }
   ],
   "source": [
    "%%time\n",
    "# estimate ddfm\n",
    "deep_dyn_fact_mdl = DDFM(pd.DataFrame(x), structure_encoder=structure_encoder, factor_oder=1,\n",
    "                             use_bias=False, link='relu', max_iter=1000)\n",
    "deep_dyn_fact_mdl.fit()"
   ]
  },
  {
   "cell_type": "code",
   "execution_count": 8,
   "metadata": {
    "pycharm": {
     "name": "#%%\n"
    }
   },
   "outputs": [
    {
     "name": "stdout",
     "output_type": "stream",
     "text": [
      "[0.93867971]\n"
     ]
    }
   ],
   "source": [
    "results_ddfm[0] = sim_40.evaluate(np.mean(deep_dyn_fact_mdl.factors, axis=0), f_true=sim_40.f)\n",
    "print(results_ddfm)"
   ]
  },
  {
   "cell_type": "markdown",
   "metadata": {
    "pycharm": {
     "name": "#%% md\n"
    }
   },
   "source": [
    "\n",
    "## Simulate data 150"
   ]
  },
  {
   "cell_type": "code",
   "execution_count": 9,
   "metadata": {
    "pycharm": {
     "name": "#%%\n"
    }
   },
   "outputs": [],
   "source": [
    "x = sim_150.simulate(n_obs, portion_missings=portion_missings)\n",
    "r_true = sim_150.f.shape[1]\n",
    "if poly_degree == 1:\n",
    "    # For linear to set the following\n",
    "    structure_encoder = (r_true,)\n",
    "else:\n",
    "    structure_encoder = (r_true * 6, r_true * 4, r_true * 2, r_true)"
   ]
  },
  {
   "cell_type": "code",
   "execution_count": 10,
   "metadata": {
    "pycharm": {
     "name": "#%%\n"
    }
   },
   "outputs": [
    {
     "name": "stdout",
     "output_type": "stream",
     "text": [
      "EM start iterations, llf=-11413\n",
      "EM converged at iteration 320, llf=-10232, convergence criterion=9.9605e-07 < tolerance=1e-06\n",
      "CPU times: user 14min 4s, sys: 9min 47s, total: 23min 51s\n",
      "Wall time: 3min 18s\n"
     ]
    }
   ],
   "source": [
    "%%time\n",
    "# estimate dfm\n",
    "dyn_fact_mdl = DFM(pd.DataFrame(x), factors=min(r_true, x.shape[1]), factor_orders=1)\n",
    "res_dyn_fact_mdl = dyn_fact_mdl.fit(disp=1000, maxiter=1000)"
   ]
  },
  {
   "cell_type": "code",
   "execution_count": 11,
   "metadata": {
    "pycharm": {
     "name": "#%%\n"
    }
   },
   "outputs": [
    {
     "name": "stdout",
     "output_type": "stream",
     "text": [
      "[0.77804294 0.77757014]\n"
     ]
    }
   ],
   "source": [
    "results_dfm[0] = sim_150.evaluate(res_dyn_fact_mdl.factors.smoothed.values, f_true=sim_150.f)\n",
    "results_dfm[1] = sim_150.evaluate(res_dyn_fact_mdl.factors.filtered.values, f_true=sim_150.f)\n",
    "print(results_dfm)"
   ]
  },
  {
   "cell_type": "code",
   "execution_count": 12,
   "metadata": {
    "pycharm": {
     "name": "#%%\n"
    }
   },
   "outputs": [
    {
     "name": "stdout",
     "output_type": "stream",
     "text": [
      "@Info - Note: Sorting data.\n",
      "@Info: iteration: 10 - new loss: 0.2129121431217014 - delta: 0.0003581649351550417\n",
      "@Info: Convergence achieved in 10 iterations - new loss: 0.2129121431217014 - delta: 0.0003581649351550417 < 0.0005\n",
      "CPU times: user 25.3 s, sys: 20.3 s, total: 45.7 s\n",
      "Wall time: 20.5 s\n"
     ]
    }
   ],
   "source": [
    "%%time\n",
    "# estimate ddfm\n",
    "deep_dyn_fact_mdl = DDFM(pd.DataFrame(x), structure_encoder=structure_encoder, factor_oder=1,\n",
    "                             use_bias=False, link='relu',\n",
    "                         max_iter=1000)\n",
    "deep_dyn_fact_mdl.fit()"
   ]
  },
  {
   "cell_type": "code",
   "execution_count": 13,
   "metadata": {
    "pycharm": {
     "name": "#%%\n"
    }
   },
   "outputs": [
    {
     "name": "stdout",
     "output_type": "stream",
     "text": [
      "[0.95944693]\n"
     ]
    }
   ],
   "source": [
    "results_ddfm[0] = sim_150.evaluate(np.mean(deep_dyn_fact_mdl.factors, axis=0), f_true=sim_150.f)\n",
    "print(results_ddfm)"
   ]
  },
  {
   "cell_type": "code",
   "execution_count": null,
   "metadata": {
    "pycharm": {
     "name": "#%%\n"
    }
   },
   "outputs": [],
   "source": []
  },
  {
   "cell_type": "code",
   "execution_count": null,
   "metadata": {
    "pycharm": {
     "name": "#%%\n"
    }
   },
   "outputs": [],
   "source": []
  }
 ],
 "metadata": {
  "@webio": {
   "lastCommId": null,
   "lastKernelId": null
  },
  "kernelspec": {
   "display_name": "ddfm",
   "language": "python",
   "name": "ddfm"
  },
  "language_info": {
   "codemirror_mode": {
    "name": "ipython",
    "version": 3
   },
   "file_extension": ".py",
   "mimetype": "text/x-python",
   "name": "python",
   "nbconvert_exporter": "python",
   "pygments_lexer": "ipython3",
   "version": "3.8.3"
  }
 },
 "nbformat": 4,
 "nbformat_minor": 1
}
