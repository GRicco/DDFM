{
 "cells": [
  {
   "cell_type": "markdown",
   "metadata": {
    "pycharm": {
     "name": "#%% md\n"
    }
   },
   "source": [
    "# This Notebook contains examples on simulated data"
   ]
  },
  {
   "cell_type": "code",
   "execution_count": 1,
   "metadata": {
    "pycharm": {
     "name": "#%%\n"
    }
   },
   "outputs": [],
   "source": [
    "import os,sys,inspect\n",
    "currentdir = os.path.dirname(os.path.abspath(inspect.getfile(inspect.currentframe())))\n",
    "parentdir = os.path.dirname(currentdir)\n",
    "parentdir = os.path.dirname(parentdir)\n",
    "sys.path.insert(0,parentdir)\n",
    "import random\n",
    "import numpy as np\n",
    "import pandas as pd\n",
    "from synthetic_dgp.simulate import SIMULATE\n",
    "from statsmodels.tsa.statespace.dynamic_factor_mq import DynamicFactorMQ as DFM\n",
    "from models.ddfm import DDFM\n",
    "import warnings\n",
    "warnings.filterwarnings(\"ignore\")"
   ]
  },
  {
   "cell_type": "code",
   "execution_count": 2,
   "metadata": {
    "pycharm": {
     "name": "#%%\n"
    }
   },
   "outputs": [],
   "source": [
    "# seed setting\n",
    "seed = 123456789\n",
    "random.seed(seed)\n",
    "np.random.seed(seed)\n",
    "# set poly degree, if 1 then linear and the encoder structure is modified to linear single layer\n",
    "poly_degree = 2\n",
    "# init results storage\n",
    "results_dfm = np.zeros(2)\n",
    "results_ddfm = np.zeros(1)\n",
    "# params sim data\n",
    "n_obs = 50\n",
    "r = 3\n",
    "portion_missings = 0.2\n",
    "# simulate data\n",
    "sim_40 = SIMULATE(seed=seed, n=40, r=r, poly_degree=poly_degree)\n",
    "sim_150 = SIMULATE(seed=seed, n=150, r=r, poly_degree=poly_degree)"
   ]
  },
  {
   "cell_type": "markdown",
   "metadata": {
    "pycharm": {
     "name": "#%% md\n"
    }
   },
   "source": [
    "## Simulate data 40"
   ]
  },
  {
   "cell_type": "code",
   "execution_count": 3,
   "metadata": {
    "pycharm": {
     "name": "#%%\n"
    }
   },
   "outputs": [],
   "source": [
    "x = sim_40.simulate(n_obs, portion_missings=portion_missings)\n",
    "r_true = sim_40.f.shape[1]\n",
    "if poly_degree == 1:\n",
    "    # For linear to set the following\n",
    "    structure_encoder = (r_true,)\n",
    "else:\n",
    "    structure_encoder = (r_true * 6, r_true * 4, r_true * 2, r_true)"
   ]
  },
  {
   "cell_type": "code",
   "execution_count": 4,
   "metadata": {
    "pycharm": {
     "name": "#%%\n"
    }
   },
   "outputs": [
    {
     "name": "stdout",
     "output_type": "stream",
     "text": [
      "EM start iterations, llf=-1130.7\n",
      "EM converged at iteration 530, llf=-950.24, convergence criterion=9.983e-07 < tolerance=1e-06\n",
      "Wall time: 29.4 s\n"
     ]
    }
   ],
   "source": [
    "%%time\n",
    "# estimate dfm\n",
    "dyn_fact_mdl = DFM(pd.DataFrame(x), factors=min(r_true, x.shape[1]), factor_orders=1)\n",
    "res_dyn_fact_mdl = dyn_fact_mdl.fit(disp=1000, maxiter=10000)"
   ]
  },
  {
   "cell_type": "code",
   "execution_count": 5,
   "metadata": {
    "pycharm": {
     "name": "#%%\n"
    }
   },
   "outputs": [
    {
     "name": "stdout",
     "output_type": "stream",
     "text": [
      "[0.7173566  0.71880755]\n"
     ]
    }
   ],
   "source": [
    "results_dfm[0] = sim_40.evaluate(res_dyn_fact_mdl.factors.smoothed.values, f_true=sim_40.f)\n",
    "results_dfm[1] = sim_40.evaluate(res_dyn_fact_mdl.factors.filtered.values, f_true=sim_40.f)\n",
    "print(results_dfm)"
   ]
  },
  {
   "cell_type": "code",
   "execution_count": 6,
   "metadata": {
    "pycharm": {
     "name": "#%%\n"
    }
   },
   "outputs": [
    {
     "name": "stdout",
     "output_type": "stream",
     "text": [
      "@Info - Note: in data, last datapoint must be last observation.\n",
      "@Info: iteration: 10 - new loss: 0.10883930229016198 - delta: 0.016920021173221708\n",
      "@Info: Convergence achieved in 16 iterations!\n",
      "Wall time: 1min 6s\n"
     ]
    }
   ],
   "source": [
    "%%time\n",
    "# estimate ddfm\n",
    "deep_dyn_fact_mdl = DDFM(pd.DataFrame(x), structure_encoder=structure_encoder, factor_oder=1,\n",
    "                             use_bias=False, link='relu', max_iter=1000)\n",
    "deep_dyn_fact_mdl.fit()"
   ]
  },
  {
   "cell_type": "code",
   "execution_count": 7,
   "metadata": {
    "pycharm": {
     "name": "#%%\n"
    }
   },
   "outputs": [
    {
     "name": "stdout",
     "output_type": "stream",
     "text": [
      "[0.90251958]\n"
     ]
    }
   ],
   "source": [
    "results_ddfm[0] = sim_40.evaluate(np.mean(deep_dyn_fact_mdl.factors, axis=0), f_true=sim_40.f)\n",
    "print(results_ddfm)"
   ]
  },
  {
   "cell_type": "markdown",
   "metadata": {
    "pycharm": {
     "name": "#%% md\n"
    }
   },
   "source": [
    "\n",
    "## Simulate data 150"
   ]
  },
  {
   "cell_type": "code",
   "execution_count": 8,
   "metadata": {
    "pycharm": {
     "name": "#%%\n"
    }
   },
   "outputs": [],
   "source": [
    "x = sim_150.simulate(n_obs, portion_missings=portion_missings)\n",
    "r_true = sim_150.f.shape[1]\n",
    "if poly_degree == 1:\n",
    "    # For linear to set the following\n",
    "    structure_encoder = (r_true,)\n",
    "else:\n",
    "    structure_encoder = (r_true * 6, r_true * 4, r_true * 2, r_true)"
   ]
  },
  {
   "cell_type": "code",
   "execution_count": 9,
   "metadata": {
    "pycharm": {
     "name": "#%%\n"
    }
   },
   "outputs": [
    {
     "name": "stdout",
     "output_type": "stream",
     "text": [
      "EM start iterations, llf=-3418.7\n",
      "EM converged at iteration 627, llf=-2945.7, convergence criterion=9.9993e-07 < tolerance=1e-06\n",
      "Wall time: 6min 42s\n"
     ]
    }
   ],
   "source": [
    "%%time\n",
    "# estimate dfm\n",
    "dyn_fact_mdl = DFM(pd.DataFrame(x), factors=min(r_true, x.shape[1]), factor_orders=1)\n",
    "res_dyn_fact_mdl = dyn_fact_mdl.fit(disp=1000, maxiter=1000)"
   ]
  },
  {
   "cell_type": "code",
   "execution_count": 10,
   "metadata": {
    "pycharm": {
     "name": "#%%\n"
    }
   },
   "outputs": [
    {
     "name": "stdout",
     "output_type": "stream",
     "text": [
      "[0.75016654 0.75034626]\n"
     ]
    }
   ],
   "source": [
    "results_dfm[0] = sim_150.evaluate(res_dyn_fact_mdl.factors.smoothed.values, f_true=sim_150.f)\n",
    "results_dfm[1] = sim_150.evaluate(res_dyn_fact_mdl.factors.filtered.values, f_true=sim_150.f)\n",
    "print(results_dfm)"
   ]
  },
  {
   "cell_type": "code",
   "execution_count": 11,
   "metadata": {
    "pycharm": {
     "name": "#%%\n"
    }
   },
   "outputs": [
    {
     "name": "stdout",
     "output_type": "stream",
     "text": [
      "@Info - Note: in data, last datapoint must be last observation.\n",
      "@Info: iteration: 10 - new loss: 0.18475957298350976 - delta: 0.0018857126524865781\n",
      "@Info: Convergence achieved in 14 iterations!\n",
      "Wall time: 1min 10s\n"
     ]
    }
   ],
   "source": [
    "%%time\n",
    "# estimate ddfm\n",
    "deep_dyn_fact_mdl = DDFM(pd.DataFrame(x), structure_encoder=structure_encoder, factor_oder=1,\n",
    "                             use_bias=False, link='relu',\n",
    "                         max_iter=1000)\n",
    "deep_dyn_fact_mdl.fit()"
   ]
  },
  {
   "cell_type": "code",
   "execution_count": 12,
   "metadata": {
    "pycharm": {
     "name": "#%%\n"
    }
   },
   "outputs": [
    {
     "name": "stdout",
     "output_type": "stream",
     "text": [
      "[0.95233669]\n"
     ]
    }
   ],
   "source": [
    "results_ddfm[0] = sim_150.evaluate(np.mean(deep_dyn_fact_mdl.factors, axis=0), f_true=sim_150.f)\n",
    "print(results_ddfm)"
   ]
  },
  {
   "cell_type": "code",
   "execution_count": 12,
   "outputs": [],
   "source": [],
   "metadata": {
    "collapsed": false,
    "pycharm": {
     "name": "#%%\n"
    }
   }
  },
  {
   "cell_type": "code",
   "execution_count": 12,
   "outputs": [],
   "source": [],
   "metadata": {
    "collapsed": false,
    "pycharm": {
     "name": "#%%\n"
    }
   }
  }
 ],
 "metadata": {
  "kernelspec": {
   "display_name": "Python 3",
   "language": "python",
   "name": "python3"
  },
  "language_info": {
   "codemirror_mode": {
    "name": "ipython",
    "version": 3
   },
   "file_extension": ".py",
   "mimetype": "text/x-python",
   "name": "python",
   "nbconvert_exporter": "python",
   "pygments_lexer": "ipython3",
   "version": "3.7.6"
  }
 },
 "nbformat": 4,
 "nbformat_minor": 1
}